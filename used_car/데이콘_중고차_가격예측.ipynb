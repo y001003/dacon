{
  "nbformat": 4,
  "nbformat_minor": 0,
  "metadata": {
    "colab": {
      "name": "데이콘_중고차_가격예측.ipynb",
      "provenance": [],
      "toc_visible": true,
      "include_colab_link": true
    },
    "kernelspec": {
      "name": "python3",
      "display_name": "Python 3"
    },
    "language_info": {
      "name": "python"
    }
  },
  "cells": [
    {
      "cell_type": "markdown",
      "metadata": {
        "id": "view-in-github",
        "colab_type": "text"
      },
      "source": [
        "<a href=\"https://colab.research.google.com/github/y001003/dacon/blob/main/used_car/%EB%8D%B0%EC%9D%B4%EC%BD%98_%EC%A4%91%EA%B3%A0%EC%B0%A8_%EA%B0%80%EA%B2%A9%EC%98%88%EC%B8%A1.ipynb\" target=\"_parent\"><img src=\"https://colab.research.google.com/assets/colab-badge.svg\" alt=\"Open In Colab\"/></a>"
      ]
    },
    {
      "cell_type": "markdown",
      "source": [
        "# 데이콘 중고차 가격예측 모형"
      ],
      "metadata": {
        "id": "TWY3ZPP-fJKu"
      }
    },
    {
      "cell_type": "markdown",
      "source": [
        "나이지리아에 판매된 중고차의 데이터를 이용하여, test 데이터의 중고차 가격을 예측하는 모형을 만들어 본다.\n"
      ],
      "metadata": {
        "id": "4VuH4TmEPJ3P"
      }
    },
    {
      "cell_type": "markdown",
      "source": [
        "## 1. 데이터 및 라이브러리 불러오기"
      ],
      "metadata": {
        "id": "BaAZTvfBOmv7"
      }
    },
    {
      "cell_type": "code",
      "source": [
        "# 라이브러리 불러오기\n",
        "import numpy as np\n",
        "import pandas as pd\n",
        "import matplotlib.pyplot as plt\n",
        "import seaborn as sns"
      ],
      "metadata": {
        "id": "a6QtElOkPNzO"
      },
      "execution_count": null,
      "outputs": []
    },
    {
      "cell_type": "code",
      "source": [
        "from google.colab import drive\n",
        "drive.mount('/content/drive')"
      ],
      "metadata": {
        "colab": {
          "base_uri": "https://localhost:8080/"
        },
        "id": "HcCONIFWPm1g",
        "outputId": "de774c46-e79a-4364-8cd8-b154ebc46b4b"
      },
      "execution_count": null,
      "outputs": [
        {
          "output_type": "stream",
          "name": "stdout",
          "text": [
            "Mounted at /content/drive\n"
          ]
        }
      ]
    },
    {
      "cell_type": "code",
      "source": [
        "# 데이터 불러오기\n",
        "train = pd.read_csv('/content/drive/MyDrive/project/dacon_car/train.csv의 사본')\n",
        "test = pd.read_csv('/content/drive/MyDrive/project/dacon_car/test.csv의 사본')\n",
        "sample = pd.read_csv('/content/drive/MyDrive/project/dacon_car/sample_submission.csv')\n",
        "train_df = pd.DataFrame(train)\n",
        "test_df = pd.DataFrame(test)\n",
        "train_df\n"
      ],
      "metadata": {
        "colab": {
          "base_uri": "https://localhost:8080/",
          "height": 424
        },
        "id": "nng0JAV4PfHj",
        "outputId": "33db0006-50f0-44cb-96f5-7972a9cb3111"
      },
      "execution_count": null,
      "outputs": [
        {
          "output_type": "execute_result",
          "data": {
            "text/plain": [
              "        id                          title  odometer location    isimported  \\\n",
              "0        0                   Toyota RAV 4     18277   Lagos   Foreign Used   \n",
              "1        1            Toyota Land Cruiser        10    Lagos          New    \n",
              "2        2  Land Rover Range Rover Evoque     83091    Lagos  Foreign Used   \n",
              "3        3                   Lexus ES 350     91524    Lagos  Foreign Used   \n",
              "4        4                   Toyota Venza     94177    Lagos  Foreign Used   \n",
              "...    ...                            ...       ...      ...           ...   \n",
              "1010  1010                 Toyota Corolla     46768    Lagos  Foreign Used   \n",
              "1011  1011                   Toyota Camry     31600    Abuja  Foreign Used   \n",
              "1012  1012                   Toyota Camry     96802    Abuja  Foreign Used   \n",
              "1013  1013                   Lexus GX 460    146275    Lagos  Foreign Used   \n",
              "1014  1014                         DAF CF         0    Lagos  Locally used   \n",
              "\n",
              "              engine transmission    fuel   paint  year    target  \n",
              "0     4-cylinder(I4)    automatic  petrol     Red  2016  13665000  \n",
              "1     4-cylinder(I4)    automatic  petrol   Black  2019  33015000  \n",
              "2     6-cylinder(V6)    automatic  petrol     Red  2012   9915000  \n",
              "3     4-cylinder(I4)    automatic  petrol    Gray  2007   3815000  \n",
              "4     6-cylinder(V6)    automatic  petrol     Red  2010   7385000  \n",
              "...              ...          ...     ...     ...   ...       ...  \n",
              "1010  4-cylinder(I4)    automatic  petrol   Black  2014   5415000  \n",
              "1011  4-cylinder(I4)    automatic  petrol  Silver  2011   3615000  \n",
              "1012  4-cylinder(I4)    automatic  petrol   Black  2011   3415000  \n",
              "1013  6-cylinder(V6)    automatic  petrol    Gold  2013  14315000  \n",
              "1014  6-cylinder(V6)       manual  diesel   white  1998  10015000  \n",
              "\n",
              "[1015 rows x 11 columns]"
            ],
            "text/html": [
              "\n",
              "  <div id=\"df-3a815105-3bf3-4ff1-8d93-c28cd0f7c5de\">\n",
              "    <div class=\"colab-df-container\">\n",
              "      <div>\n",
              "<style scoped>\n",
              "    .dataframe tbody tr th:only-of-type {\n",
              "        vertical-align: middle;\n",
              "    }\n",
              "\n",
              "    .dataframe tbody tr th {\n",
              "        vertical-align: top;\n",
              "    }\n",
              "\n",
              "    .dataframe thead th {\n",
              "        text-align: right;\n",
              "    }\n",
              "</style>\n",
              "<table border=\"1\" class=\"dataframe\">\n",
              "  <thead>\n",
              "    <tr style=\"text-align: right;\">\n",
              "      <th></th>\n",
              "      <th>id</th>\n",
              "      <th>title</th>\n",
              "      <th>odometer</th>\n",
              "      <th>location</th>\n",
              "      <th>isimported</th>\n",
              "      <th>engine</th>\n",
              "      <th>transmission</th>\n",
              "      <th>fuel</th>\n",
              "      <th>paint</th>\n",
              "      <th>year</th>\n",
              "      <th>target</th>\n",
              "    </tr>\n",
              "  </thead>\n",
              "  <tbody>\n",
              "    <tr>\n",
              "      <th>0</th>\n",
              "      <td>0</td>\n",
              "      <td>Toyota RAV 4</td>\n",
              "      <td>18277</td>\n",
              "      <td>Lagos</td>\n",
              "      <td>Foreign Used</td>\n",
              "      <td>4-cylinder(I4)</td>\n",
              "      <td>automatic</td>\n",
              "      <td>petrol</td>\n",
              "      <td>Red</td>\n",
              "      <td>2016</td>\n",
              "      <td>13665000</td>\n",
              "    </tr>\n",
              "    <tr>\n",
              "      <th>1</th>\n",
              "      <td>1</td>\n",
              "      <td>Toyota Land Cruiser</td>\n",
              "      <td>10</td>\n",
              "      <td>Lagos</td>\n",
              "      <td>New</td>\n",
              "      <td>4-cylinder(I4)</td>\n",
              "      <td>automatic</td>\n",
              "      <td>petrol</td>\n",
              "      <td>Black</td>\n",
              "      <td>2019</td>\n",
              "      <td>33015000</td>\n",
              "    </tr>\n",
              "    <tr>\n",
              "      <th>2</th>\n",
              "      <td>2</td>\n",
              "      <td>Land Rover Range Rover Evoque</td>\n",
              "      <td>83091</td>\n",
              "      <td>Lagos</td>\n",
              "      <td>Foreign Used</td>\n",
              "      <td>6-cylinder(V6)</td>\n",
              "      <td>automatic</td>\n",
              "      <td>petrol</td>\n",
              "      <td>Red</td>\n",
              "      <td>2012</td>\n",
              "      <td>9915000</td>\n",
              "    </tr>\n",
              "    <tr>\n",
              "      <th>3</th>\n",
              "      <td>3</td>\n",
              "      <td>Lexus ES 350</td>\n",
              "      <td>91524</td>\n",
              "      <td>Lagos</td>\n",
              "      <td>Foreign Used</td>\n",
              "      <td>4-cylinder(I4)</td>\n",
              "      <td>automatic</td>\n",
              "      <td>petrol</td>\n",
              "      <td>Gray</td>\n",
              "      <td>2007</td>\n",
              "      <td>3815000</td>\n",
              "    </tr>\n",
              "    <tr>\n",
              "      <th>4</th>\n",
              "      <td>4</td>\n",
              "      <td>Toyota Venza</td>\n",
              "      <td>94177</td>\n",
              "      <td>Lagos</td>\n",
              "      <td>Foreign Used</td>\n",
              "      <td>6-cylinder(V6)</td>\n",
              "      <td>automatic</td>\n",
              "      <td>petrol</td>\n",
              "      <td>Red</td>\n",
              "      <td>2010</td>\n",
              "      <td>7385000</td>\n",
              "    </tr>\n",
              "    <tr>\n",
              "      <th>...</th>\n",
              "      <td>...</td>\n",
              "      <td>...</td>\n",
              "      <td>...</td>\n",
              "      <td>...</td>\n",
              "      <td>...</td>\n",
              "      <td>...</td>\n",
              "      <td>...</td>\n",
              "      <td>...</td>\n",
              "      <td>...</td>\n",
              "      <td>...</td>\n",
              "      <td>...</td>\n",
              "    </tr>\n",
              "    <tr>\n",
              "      <th>1010</th>\n",
              "      <td>1010</td>\n",
              "      <td>Toyota Corolla</td>\n",
              "      <td>46768</td>\n",
              "      <td>Lagos</td>\n",
              "      <td>Foreign Used</td>\n",
              "      <td>4-cylinder(I4)</td>\n",
              "      <td>automatic</td>\n",
              "      <td>petrol</td>\n",
              "      <td>Black</td>\n",
              "      <td>2014</td>\n",
              "      <td>5415000</td>\n",
              "    </tr>\n",
              "    <tr>\n",
              "      <th>1011</th>\n",
              "      <td>1011</td>\n",
              "      <td>Toyota Camry</td>\n",
              "      <td>31600</td>\n",
              "      <td>Abuja</td>\n",
              "      <td>Foreign Used</td>\n",
              "      <td>4-cylinder(I4)</td>\n",
              "      <td>automatic</td>\n",
              "      <td>petrol</td>\n",
              "      <td>Silver</td>\n",
              "      <td>2011</td>\n",
              "      <td>3615000</td>\n",
              "    </tr>\n",
              "    <tr>\n",
              "      <th>1012</th>\n",
              "      <td>1012</td>\n",
              "      <td>Toyota Camry</td>\n",
              "      <td>96802</td>\n",
              "      <td>Abuja</td>\n",
              "      <td>Foreign Used</td>\n",
              "      <td>4-cylinder(I4)</td>\n",
              "      <td>automatic</td>\n",
              "      <td>petrol</td>\n",
              "      <td>Black</td>\n",
              "      <td>2011</td>\n",
              "      <td>3415000</td>\n",
              "    </tr>\n",
              "    <tr>\n",
              "      <th>1013</th>\n",
              "      <td>1013</td>\n",
              "      <td>Lexus GX 460</td>\n",
              "      <td>146275</td>\n",
              "      <td>Lagos</td>\n",
              "      <td>Foreign Used</td>\n",
              "      <td>6-cylinder(V6)</td>\n",
              "      <td>automatic</td>\n",
              "      <td>petrol</td>\n",
              "      <td>Gold</td>\n",
              "      <td>2013</td>\n",
              "      <td>14315000</td>\n",
              "    </tr>\n",
              "    <tr>\n",
              "      <th>1014</th>\n",
              "      <td>1014</td>\n",
              "      <td>DAF CF</td>\n",
              "      <td>0</td>\n",
              "      <td>Lagos</td>\n",
              "      <td>Locally used</td>\n",
              "      <td>6-cylinder(V6)</td>\n",
              "      <td>manual</td>\n",
              "      <td>diesel</td>\n",
              "      <td>white</td>\n",
              "      <td>1998</td>\n",
              "      <td>10015000</td>\n",
              "    </tr>\n",
              "  </tbody>\n",
              "</table>\n",
              "<p>1015 rows × 11 columns</p>\n",
              "</div>\n",
              "      <button class=\"colab-df-convert\" onclick=\"convertToInteractive('df-3a815105-3bf3-4ff1-8d93-c28cd0f7c5de')\"\n",
              "              title=\"Convert this dataframe to an interactive table.\"\n",
              "              style=\"display:none;\">\n",
              "        \n",
              "  <svg xmlns=\"http://www.w3.org/2000/svg\" height=\"24px\"viewBox=\"0 0 24 24\"\n",
              "       width=\"24px\">\n",
              "    <path d=\"M0 0h24v24H0V0z\" fill=\"none\"/>\n",
              "    <path d=\"M18.56 5.44l.94 2.06.94-2.06 2.06-.94-2.06-.94-.94-2.06-.94 2.06-2.06.94zm-11 1L8.5 8.5l.94-2.06 2.06-.94-2.06-.94L8.5 2.5l-.94 2.06-2.06.94zm10 10l.94 2.06.94-2.06 2.06-.94-2.06-.94-.94-2.06-.94 2.06-2.06.94z\"/><path d=\"M17.41 7.96l-1.37-1.37c-.4-.4-.92-.59-1.43-.59-.52 0-1.04.2-1.43.59L10.3 9.45l-7.72 7.72c-.78.78-.78 2.05 0 2.83L4 21.41c.39.39.9.59 1.41.59.51 0 1.02-.2 1.41-.59l7.78-7.78 2.81-2.81c.8-.78.8-2.07 0-2.86zM5.41 20L4 18.59l7.72-7.72 1.47 1.35L5.41 20z\"/>\n",
              "  </svg>\n",
              "      </button>\n",
              "      \n",
              "  <style>\n",
              "    .colab-df-container {\n",
              "      display:flex;\n",
              "      flex-wrap:wrap;\n",
              "      gap: 12px;\n",
              "    }\n",
              "\n",
              "    .colab-df-convert {\n",
              "      background-color: #E8F0FE;\n",
              "      border: none;\n",
              "      border-radius: 50%;\n",
              "      cursor: pointer;\n",
              "      display: none;\n",
              "      fill: #1967D2;\n",
              "      height: 32px;\n",
              "      padding: 0 0 0 0;\n",
              "      width: 32px;\n",
              "    }\n",
              "\n",
              "    .colab-df-convert:hover {\n",
              "      background-color: #E2EBFA;\n",
              "      box-shadow: 0px 1px 2px rgba(60, 64, 67, 0.3), 0px 1px 3px 1px rgba(60, 64, 67, 0.15);\n",
              "      fill: #174EA6;\n",
              "    }\n",
              "\n",
              "    [theme=dark] .colab-df-convert {\n",
              "      background-color: #3B4455;\n",
              "      fill: #D2E3FC;\n",
              "    }\n",
              "\n",
              "    [theme=dark] .colab-df-convert:hover {\n",
              "      background-color: #434B5C;\n",
              "      box-shadow: 0px 1px 3px 1px rgba(0, 0, 0, 0.15);\n",
              "      filter: drop-shadow(0px 1px 2px rgba(0, 0, 0, 0.3));\n",
              "      fill: #FFFFFF;\n",
              "    }\n",
              "  </style>\n",
              "\n",
              "      <script>\n",
              "        const buttonEl =\n",
              "          document.querySelector('#df-3a815105-3bf3-4ff1-8d93-c28cd0f7c5de button.colab-df-convert');\n",
              "        buttonEl.style.display =\n",
              "          google.colab.kernel.accessAllowed ? 'block' : 'none';\n",
              "\n",
              "        async function convertToInteractive(key) {\n",
              "          const element = document.querySelector('#df-3a815105-3bf3-4ff1-8d93-c28cd0f7c5de');\n",
              "          const dataTable =\n",
              "            await google.colab.kernel.invokeFunction('convertToInteractive',\n",
              "                                                     [key], {});\n",
              "          if (!dataTable) return;\n",
              "\n",
              "          const docLinkHtml = 'Like what you see? Visit the ' +\n",
              "            '<a target=\"_blank\" href=https://colab.research.google.com/notebooks/data_table.ipynb>data table notebook</a>'\n",
              "            + ' to learn more about interactive tables.';\n",
              "          element.innerHTML = '';\n",
              "          dataTable['output_type'] = 'display_data';\n",
              "          await google.colab.output.renderOutput(dataTable, element);\n",
              "          const docLink = document.createElement('div');\n",
              "          docLink.innerHTML = docLinkHtml;\n",
              "          element.appendChild(docLink);\n",
              "        }\n",
              "      </script>\n",
              "    </div>\n",
              "  </div>\n",
              "  "
            ]
          },
          "metadata": {},
          "execution_count": 3
        }
      ]
    },
    {
      "cell_type": "markdown",
      "source": [
        "## 2. Data Preprocessing"
      ],
      "metadata": {
        "id": "lEwvkx-eOsPG"
      }
    },
    {
      "cell_type": "markdown",
      "source": [
        "### 2_1. 데이터 컬럼 설명\n",
        "\n",
        "    id : 샘플 아이디\n",
        "    title : 제조사 모델명\n",
        "    odometer : 주행 거리\n",
        "    location : 판매처(나이지리아 도시)\n",
        "    isimported : 현지 사용 여부\n",
        "    engine : 엔진 종류\n",
        "    transmission : 트랜스미션 종류\n",
        "    fuel : 연료 종류\n",
        "    paint : 페인트 색상\n",
        "    year : 제조년도\n",
        "    target : 자동차 가격\n"
      ],
      "metadata": {
        "id": "loeuumgISpQd"
      }
    },
    {
      "cell_type": "markdown",
      "source": [
        "### 2_2. 데이터 결측치 확인"
      ],
      "metadata": {
        "id": "ogTdzenqTPtr"
      }
    },
    {
      "cell_type": "code",
      "source": [
        "# 결측치 확인 결과, 결측치 X\n",
        "train_df.info()"
      ],
      "metadata": {
        "colab": {
          "base_uri": "https://localhost:8080/"
        },
        "id": "FrfLJGVBTf0a",
        "outputId": "60a75793-7030-489f-9220-61143adc9f5c"
      },
      "execution_count": null,
      "outputs": [
        {
          "output_type": "stream",
          "name": "stdout",
          "text": [
            "<class 'pandas.core.frame.DataFrame'>\n",
            "RangeIndex: 1015 entries, 0 to 1014\n",
            "Data columns (total 11 columns):\n",
            " #   Column        Non-Null Count  Dtype \n",
            "---  ------        --------------  ----- \n",
            " 0   id            1015 non-null   int64 \n",
            " 1   title         1015 non-null   object\n",
            " 2   odometer      1015 non-null   int64 \n",
            " 3   location      1015 non-null   object\n",
            " 4   isimported    1015 non-null   object\n",
            " 5   engine        1015 non-null   object\n",
            " 6   transmission  1015 non-null   object\n",
            " 7   fuel          1015 non-null   object\n",
            " 8   paint         1015 non-null   object\n",
            " 9   year          1015 non-null   int64 \n",
            " 10  target        1015 non-null   int64 \n",
            "dtypes: int64(4), object(7)\n",
            "memory usage: 87.4+ KB\n"
          ]
        }
      ]
    },
    {
      "cell_type": "markdown",
      "source": [
        "### 2_3. 컬럼 선택\n"
      ],
      "metadata": {
        "id": "PkjPs68LTZgk"
      }
    },
    {
      "cell_type": "code",
      "source": [
        "train_df = train_df.drop(columns='id')\n",
        "test_df = test_df.drop(columns='id')"
      ],
      "metadata": {
        "id": "2GMrB4KvaHzL"
      },
      "execution_count": null,
      "outputs": []
    },
    {
      "cell_type": "markdown",
      "source": [
        "## 3. EDA"
      ],
      "metadata": {
        "id": "K3yyYQPsO6Lj"
      }
    },
    {
      "cell_type": "code",
      "source": [
        "train_df.head()"
      ],
      "metadata": {
        "colab": {
          "base_uri": "https://localhost:8080/",
          "height": 206
        },
        "id": "xxSzDEFrg32K",
        "outputId": "3c9c6019-3eac-46a2-f0fc-2059296974ba"
      },
      "execution_count": null,
      "outputs": [
        {
          "output_type": "execute_result",
          "data": {
            "text/plain": [
              "                           title  odometer location    isimported  \\\n",
              "0                   Toyota RAV 4     18277   Lagos   Foreign Used   \n",
              "1            Toyota Land Cruiser        10    Lagos          New    \n",
              "2  Land Rover Range Rover Evoque     83091    Lagos  Foreign Used   \n",
              "3                   Lexus ES 350     91524    Lagos  Foreign Used   \n",
              "4                   Toyota Venza     94177    Lagos  Foreign Used   \n",
              "\n",
              "           engine transmission    fuel  paint  year    target  \n",
              "0  4-cylinder(I4)    automatic  petrol    Red  2016  13665000  \n",
              "1  4-cylinder(I4)    automatic  petrol  Black  2019  33015000  \n",
              "2  6-cylinder(V6)    automatic  petrol    Red  2012   9915000  \n",
              "3  4-cylinder(I4)    automatic  petrol   Gray  2007   3815000  \n",
              "4  6-cylinder(V6)    automatic  petrol    Red  2010   7385000  "
            ],
            "text/html": [
              "\n",
              "  <div id=\"df-8100eb30-301a-4fd4-b572-9ced5e77a1f4\">\n",
              "    <div class=\"colab-df-container\">\n",
              "      <div>\n",
              "<style scoped>\n",
              "    .dataframe tbody tr th:only-of-type {\n",
              "        vertical-align: middle;\n",
              "    }\n",
              "\n",
              "    .dataframe tbody tr th {\n",
              "        vertical-align: top;\n",
              "    }\n",
              "\n",
              "    .dataframe thead th {\n",
              "        text-align: right;\n",
              "    }\n",
              "</style>\n",
              "<table border=\"1\" class=\"dataframe\">\n",
              "  <thead>\n",
              "    <tr style=\"text-align: right;\">\n",
              "      <th></th>\n",
              "      <th>title</th>\n",
              "      <th>odometer</th>\n",
              "      <th>location</th>\n",
              "      <th>isimported</th>\n",
              "      <th>engine</th>\n",
              "      <th>transmission</th>\n",
              "      <th>fuel</th>\n",
              "      <th>paint</th>\n",
              "      <th>year</th>\n",
              "      <th>target</th>\n",
              "    </tr>\n",
              "  </thead>\n",
              "  <tbody>\n",
              "    <tr>\n",
              "      <th>0</th>\n",
              "      <td>Toyota RAV 4</td>\n",
              "      <td>18277</td>\n",
              "      <td>Lagos</td>\n",
              "      <td>Foreign Used</td>\n",
              "      <td>4-cylinder(I4)</td>\n",
              "      <td>automatic</td>\n",
              "      <td>petrol</td>\n",
              "      <td>Red</td>\n",
              "      <td>2016</td>\n",
              "      <td>13665000</td>\n",
              "    </tr>\n",
              "    <tr>\n",
              "      <th>1</th>\n",
              "      <td>Toyota Land Cruiser</td>\n",
              "      <td>10</td>\n",
              "      <td>Lagos</td>\n",
              "      <td>New</td>\n",
              "      <td>4-cylinder(I4)</td>\n",
              "      <td>automatic</td>\n",
              "      <td>petrol</td>\n",
              "      <td>Black</td>\n",
              "      <td>2019</td>\n",
              "      <td>33015000</td>\n",
              "    </tr>\n",
              "    <tr>\n",
              "      <th>2</th>\n",
              "      <td>Land Rover Range Rover Evoque</td>\n",
              "      <td>83091</td>\n",
              "      <td>Lagos</td>\n",
              "      <td>Foreign Used</td>\n",
              "      <td>6-cylinder(V6)</td>\n",
              "      <td>automatic</td>\n",
              "      <td>petrol</td>\n",
              "      <td>Red</td>\n",
              "      <td>2012</td>\n",
              "      <td>9915000</td>\n",
              "    </tr>\n",
              "    <tr>\n",
              "      <th>3</th>\n",
              "      <td>Lexus ES 350</td>\n",
              "      <td>91524</td>\n",
              "      <td>Lagos</td>\n",
              "      <td>Foreign Used</td>\n",
              "      <td>4-cylinder(I4)</td>\n",
              "      <td>automatic</td>\n",
              "      <td>petrol</td>\n",
              "      <td>Gray</td>\n",
              "      <td>2007</td>\n",
              "      <td>3815000</td>\n",
              "    </tr>\n",
              "    <tr>\n",
              "      <th>4</th>\n",
              "      <td>Toyota Venza</td>\n",
              "      <td>94177</td>\n",
              "      <td>Lagos</td>\n",
              "      <td>Foreign Used</td>\n",
              "      <td>6-cylinder(V6)</td>\n",
              "      <td>automatic</td>\n",
              "      <td>petrol</td>\n",
              "      <td>Red</td>\n",
              "      <td>2010</td>\n",
              "      <td>7385000</td>\n",
              "    </tr>\n",
              "  </tbody>\n",
              "</table>\n",
              "</div>\n",
              "      <button class=\"colab-df-convert\" onclick=\"convertToInteractive('df-8100eb30-301a-4fd4-b572-9ced5e77a1f4')\"\n",
              "              title=\"Convert this dataframe to an interactive table.\"\n",
              "              style=\"display:none;\">\n",
              "        \n",
              "  <svg xmlns=\"http://www.w3.org/2000/svg\" height=\"24px\"viewBox=\"0 0 24 24\"\n",
              "       width=\"24px\">\n",
              "    <path d=\"M0 0h24v24H0V0z\" fill=\"none\"/>\n",
              "    <path d=\"M18.56 5.44l.94 2.06.94-2.06 2.06-.94-2.06-.94-.94-2.06-.94 2.06-2.06.94zm-11 1L8.5 8.5l.94-2.06 2.06-.94-2.06-.94L8.5 2.5l-.94 2.06-2.06.94zm10 10l.94 2.06.94-2.06 2.06-.94-2.06-.94-.94-2.06-.94 2.06-2.06.94z\"/><path d=\"M17.41 7.96l-1.37-1.37c-.4-.4-.92-.59-1.43-.59-.52 0-1.04.2-1.43.59L10.3 9.45l-7.72 7.72c-.78.78-.78 2.05 0 2.83L4 21.41c.39.39.9.59 1.41.59.51 0 1.02-.2 1.41-.59l7.78-7.78 2.81-2.81c.8-.78.8-2.07 0-2.86zM5.41 20L4 18.59l7.72-7.72 1.47 1.35L5.41 20z\"/>\n",
              "  </svg>\n",
              "      </button>\n",
              "      \n",
              "  <style>\n",
              "    .colab-df-container {\n",
              "      display:flex;\n",
              "      flex-wrap:wrap;\n",
              "      gap: 12px;\n",
              "    }\n",
              "\n",
              "    .colab-df-convert {\n",
              "      background-color: #E8F0FE;\n",
              "      border: none;\n",
              "      border-radius: 50%;\n",
              "      cursor: pointer;\n",
              "      display: none;\n",
              "      fill: #1967D2;\n",
              "      height: 32px;\n",
              "      padding: 0 0 0 0;\n",
              "      width: 32px;\n",
              "    }\n",
              "\n",
              "    .colab-df-convert:hover {\n",
              "      background-color: #E2EBFA;\n",
              "      box-shadow: 0px 1px 2px rgba(60, 64, 67, 0.3), 0px 1px 3px 1px rgba(60, 64, 67, 0.15);\n",
              "      fill: #174EA6;\n",
              "    }\n",
              "\n",
              "    [theme=dark] .colab-df-convert {\n",
              "      background-color: #3B4455;\n",
              "      fill: #D2E3FC;\n",
              "    }\n",
              "\n",
              "    [theme=dark] .colab-df-convert:hover {\n",
              "      background-color: #434B5C;\n",
              "      box-shadow: 0px 1px 3px 1px rgba(0, 0, 0, 0.15);\n",
              "      filter: drop-shadow(0px 1px 2px rgba(0, 0, 0, 0.3));\n",
              "      fill: #FFFFFF;\n",
              "    }\n",
              "  </style>\n",
              "\n",
              "      <script>\n",
              "        const buttonEl =\n",
              "          document.querySelector('#df-8100eb30-301a-4fd4-b572-9ced5e77a1f4 button.colab-df-convert');\n",
              "        buttonEl.style.display =\n",
              "          google.colab.kernel.accessAllowed ? 'block' : 'none';\n",
              "\n",
              "        async function convertToInteractive(key) {\n",
              "          const element = document.querySelector('#df-8100eb30-301a-4fd4-b572-9ced5e77a1f4');\n",
              "          const dataTable =\n",
              "            await google.colab.kernel.invokeFunction('convertToInteractive',\n",
              "                                                     [key], {});\n",
              "          if (!dataTable) return;\n",
              "\n",
              "          const docLinkHtml = 'Like what you see? Visit the ' +\n",
              "            '<a target=\"_blank\" href=https://colab.research.google.com/notebooks/data_table.ipynb>data table notebook</a>'\n",
              "            + ' to learn more about interactive tables.';\n",
              "          element.innerHTML = '';\n",
              "          dataTable['output_type'] = 'display_data';\n",
              "          await google.colab.output.renderOutput(dataTable, element);\n",
              "          const docLink = document.createElement('div');\n",
              "          docLink.innerHTML = docLinkHtml;\n",
              "          element.appendChild(docLink);\n",
              "        }\n",
              "      </script>\n",
              "    </div>\n",
              "  </div>\n",
              "  "
            ]
          },
          "metadata": {},
          "execution_count": 6
        }
      ]
    },
    {
      "cell_type": "code",
      "source": [
        "sns.set(rc={'figure.figsize':(15, 5)})"
      ],
      "metadata": {
        "id": "Bfcd04MWkqJv"
      },
      "execution_count": null,
      "outputs": []
    },
    {
      "cell_type": "code",
      "source": [
        "sns.pairplot(train_df)"
      ],
      "metadata": {
        "colab": {
          "base_uri": "https://localhost:8080/",
          "height": 565
        },
        "id": "Ei9c6KL6j-b4",
        "outputId": "975267c7-00ca-410d-c76b-f6b9c332e5da"
      },
      "execution_count": null,
      "outputs": [
        {
          "output_type": "execute_result",
          "data": {
            "text/plain": [
              "<seaborn.axisgrid.PairGrid at 0x7f009a720c90>"
            ]
          },
          "metadata": {},
          "execution_count": 8
        },
        {
          "output_type": "display_data",
          "data": {
            "text/plain": [
              "<Figure size 540x540 with 12 Axes>"
            ],
            "image/png": "[encoded data removed]"
          },
          "metadata": {}
        }
      ]
    },
    {
      "cell_type": "code",
      "source": [
        "sns.heatmap(data=train_df.corr(),square=True,cmap=\"Blues\",annot=True)"
      ],
      "metadata": {
        "colab": {
          "base_uri": "https://localhost:8080/",
          "height": 343
        },
        "id": "14qBsyN7rfVk",
        "outputId": "a321968d-b3e1-4946-bfcb-ccb7c3ed6052"
      },
      "execution_count": null,
      "outputs": [
        {
          "output_type": "execute_result",
          "data": {
            "text/plain": [
              "<matplotlib.axes._subplots.AxesSubplot at 0x7f009a48b090>"
            ]
          },
          "metadata": {},
          "execution_count": 9
        },
        {
          "output_type": "display_data",
          "data": {
            "text/plain": [
              "<Figure size 1080x360 with 2 Axes>"
            ],
            "image/png": "[encoded data removed]"
          },
          "metadata": {}
        }
      ]
    },
    {
      "cell_type": "code",
      "source": [
        "sns.histplot(data=train_df,x='title')"
      ],
      "metadata": {
        "colab": {
          "base_uri": "https://localhost:8080/",
          "height": 356
        },
        "id": "jZ41jVd4jTgX",
        "outputId": "b79e3b5f-0107-4927-acd2-bb22a5755114"
      },
      "execution_count": null,
      "outputs": [
        {
          "output_type": "execute_result",
          "data": {
            "text/plain": [
              "<matplotlib.axes._subplots.AxesSubplot at 0x7f0096daa190>"
            ]
          },
          "metadata": {},
          "execution_count": 10
        },
        {
          "output_type": "display_data",
          "data": {
            "text/plain": [
              "<Figure size 1080x360 with 1 Axes>"
            ],
            "image/png": "[encoded data removed]"
          },
          "metadata": {}
        }
      ]
    },
    {
      "cell_type": "markdown",
      "source": [
        "### 3_2. 이상치 제거"
      ],
      "metadata": {
        "id": "WRDZ2XiqjOsy"
      }
    },
    {
      "cell_type": "code",
      "source": [
        "# 사용여부 New이면서 주행거리수가 높은 이상치 제거\n",
        "train_df[(train_df['isimported'] == 'New ') & (train_df['odometer'] > 20000)]"
      ],
      "metadata": {
        "colab": {
          "base_uri": "https://localhost:8080/",
          "height": 112
        },
        "id": "cdAr693MhuTQ",
        "outputId": "7e32df95-bb52-4979-f714-425df8572445"
      },
      "execution_count": null,
      "outputs": [
        {
          "output_type": "execute_result",
          "data": {
            "text/plain": [
              "             title  odometer location isimported          engine transmission  \\\n",
              "316    Honda Civic     24997    Abuja       New   4-cylinder(I4)    automatic   \n",
              "909  Toyota Sienna     82589    Lagos       New   6-cylinder(V6)    automatic   \n",
              "\n",
              "       fuel  paint  year   target  \n",
              "316  petrol  White  2018  8665000  \n",
              "909  petrol  Black  2011  5185000  "
            ],
            "text/html": [
              "\n",
              "  <div id=\"df-ea9fbead-5271-428d-8647-7beee8cb0b06\">\n",
              "    <div class=\"colab-df-container\">\n",
              "      <div>\n",
              "<style scoped>\n",
              "    .dataframe tbody tr th:only-of-type {\n",
              "        vertical-align: middle;\n",
              "    }\n",
              "\n",
              "    .dataframe tbody tr th {\n",
              "        vertical-align: top;\n",
              "    }\n",
              "\n",
              "    .dataframe thead th {\n",
              "        text-align: right;\n",
              "    }\n",
              "</style>\n",
              "<table border=\"1\" class=\"dataframe\">\n",
              "  <thead>\n",
              "    <tr style=\"text-align: right;\">\n",
              "      <th></th>\n",
              "      <th>title</th>\n",
              "      <th>odometer</th>\n",
              "      <th>location</th>\n",
              "      <th>isimported</th>\n",
              "      <th>engine</th>\n",
              "      <th>transmission</th>\n",
              "      <th>fuel</th>\n",
              "      <th>paint</th>\n",
              "      <th>year</th>\n",
              "      <th>target</th>\n",
              "    </tr>\n",
              "  </thead>\n",
              "  <tbody>\n",
              "    <tr>\n",
              "      <th>316</th>\n",
              "      <td>Honda Civic</td>\n",
              "      <td>24997</td>\n",
              "      <td>Abuja</td>\n",
              "      <td>New</td>\n",
              "      <td>4-cylinder(I4)</td>\n",
              "      <td>automatic</td>\n",
              "      <td>petrol</td>\n",
              "      <td>White</td>\n",
              "      <td>2018</td>\n",
              "      <td>8665000</td>\n",
              "    </tr>\n",
              "    <tr>\n",
              "      <th>909</th>\n",
              "      <td>Toyota Sienna</td>\n",
              "      <td>82589</td>\n",
              "      <td>Lagos</td>\n",
              "      <td>New</td>\n",
              "      <td>6-cylinder(V6)</td>\n",
              "      <td>automatic</td>\n",
              "      <td>petrol</td>\n",
              "      <td>Black</td>\n",
              "      <td>2011</td>\n",
              "      <td>5185000</td>\n",
              "    </tr>\n",
              "  </tbody>\n",
              "</table>\n",
              "</div>\n",
              "      <button class=\"colab-df-convert\" onclick=\"convertToInteractive('df-ea9fbead-5271-428d-8647-7beee8cb0b06')\"\n",
              "              title=\"Convert this dataframe to an interactive table.\"\n",
              "              style=\"display:none;\">\n",
              "        \n",
              "  <svg xmlns=\"http://www.w3.org/2000/svg\" height=\"24px\"viewBox=\"0 0 24 24\"\n",
              "       width=\"24px\">\n",
              "    <path d=\"M0 0h24v24H0V0z\" fill=\"none\"/>\n",
              "    <path d=\"M18.56 5.44l.94 2.06.94-2.06 2.06-.94-2.06-.94-.94-2.06-.94 2.06-2.06.94zm-11 1L8.5 8.5l.94-2.06 2.06-.94-2.06-.94L8.5 2.5l-.94 2.06-2.06.94zm10 10l.94 2.06.94-2.06 2.06-.94-2.06-.94-.94-2.06-.94 2.06-2.06.94z\"/><path d=\"M17.41 7.96l-1.37-1.37c-.4-.4-.92-.59-1.43-.59-.52 0-1.04.2-1.43.59L10.3 9.45l-7.72 7.72c-.78.78-.78 2.05 0 2.83L4 21.41c.39.39.9.59 1.41.59.51 0 1.02-.2 1.41-.59l7.78-7.78 2.81-2.81c.8-.78.8-2.07 0-2.86zM5.41 20L4 18.59l7.72-7.72 1.47 1.35L5.41 20z\"/>\n",
              "  </svg>\n",
              "      </button>\n",
              "      \n",
              "  <style>\n",
              "    .colab-df-container {\n",
              "      display:flex;\n",
              "      flex-wrap:wrap;\n",
              "      gap: 12px;\n",
              "    }\n",
              "\n",
              "    .colab-df-convert {\n",
              "      background-color: #E8F0FE;\n",
              "      border: none;\n",
              "      border-radius: 50%;\n",
              "      cursor: pointer;\n",
              "      display: none;\n",
              "      fill: #1967D2;\n",
              "      height: 32px;\n",
              "      padding: 0 0 0 0;\n",
              "      width: 32px;\n",
              "    }\n",
              "\n",
              "    .colab-df-convert:hover {\n",
              "      background-color: #E2EBFA;\n",
              "      box-shadow: 0px 1px 2px rgba(60, 64, 67, 0.3), 0px 1px 3px 1px rgba(60, 64, 67, 0.15);\n",
              "      fill: #174EA6;\n",
              "    }\n",
              "\n",
              "    [theme=dark] .colab-df-convert {\n",
              "      background-color: #3B4455;\n",
              "      fill: #D2E3FC;\n",
              "    }\n",
              "\n",
              "    [theme=dark] .colab-df-convert:hover {\n",
              "      background-color: #434B5C;\n",
              "      box-shadow: 0px 1px 3px 1px rgba(0, 0, 0, 0.15);\n",
              "      filter: drop-shadow(0px 1px 2px rgba(0, 0, 0, 0.3));\n",
              "      fill: #FFFFFF;\n",
              "    }\n",
              "  </style>\n",
              "\n",
              "      <script>\n",
              "        const buttonEl =\n",
              "          document.querySelector('#df-ea9fbead-5271-428d-8647-7beee8cb0b06 button.colab-df-convert');\n",
              "        buttonEl.style.display =\n",
              "          google.colab.kernel.accessAllowed ? 'block' : 'none';\n",
              "\n",
              "        async function convertToInteractive(key) {\n",
              "          const element = document.querySelector('#df-ea9fbead-5271-428d-8647-7beee8cb0b06');\n",
              "          const dataTable =\n",
              "            await google.colab.kernel.invokeFunction('convertToInteractive',\n",
              "                                                     [key], {});\n",
              "          if (!dataTable) return;\n",
              "\n",
              "          const docLinkHtml = 'Like what you see? Visit the ' +\n",
              "            '<a target=\"_blank\" href=https://colab.research.google.com/notebooks/data_table.ipynb>data table notebook</a>'\n",
              "            + ' to learn more about interactive tables.';\n",
              "          element.innerHTML = '';\n",
              "          dataTable['output_type'] = 'display_data';\n",
              "          await google.colab.output.renderOutput(dataTable, element);\n",
              "          const docLink = document.createElement('div');\n",
              "          docLink.innerHTML = docLinkHtml;\n",
              "          element.appendChild(docLink);\n",
              "        }\n",
              "      </script>\n",
              "    </div>\n",
              "  </div>\n",
              "  "
            ]
          },
          "metadata": {},
          "execution_count": 11
        }
      ]
    },
    {
      "cell_type": "code",
      "source": [
        "train_df[train_df['engine'].isin(train_df['engine'].value_counts()[train_df['engine'].value_counts()>50].index)]"
      ],
      "metadata": {
        "colab": {
          "base_uri": "https://localhost:8080/",
          "height": 424
        },
        "id": "66Gs7vfDKicI",
        "outputId": "f65afff6-5b71-4572-a4d5-f5a1baf27d24"
      },
      "execution_count": null,
      "outputs": [
        {
          "output_type": "execute_result",
          "data": {
            "text/plain": [
              "                              title  odometer location    isimported  \\\n",
              "0                      Toyota RAV 4     18277   Lagos   Foreign Used   \n",
              "1               Toyota Land Cruiser        10    Lagos          New    \n",
              "2     Land Rover Range Rover Evoque     83091    Lagos  Foreign Used   \n",
              "3                      Lexus ES 350     91524    Lagos  Foreign Used   \n",
              "4                      Toyota Venza     94177    Lagos  Foreign Used   \n",
              "...                             ...       ...      ...           ...   \n",
              "1010                 Toyota Corolla     46768    Lagos  Foreign Used   \n",
              "1011                   Toyota Camry     31600    Abuja  Foreign Used   \n",
              "1012                   Toyota Camry     96802    Abuja  Foreign Used   \n",
              "1013                   Lexus GX 460    146275    Lagos  Foreign Used   \n",
              "1014                         DAF CF         0    Lagos  Locally used   \n",
              "\n",
              "              engine transmission    fuel   paint  year    target  \n",
              "0     4-cylinder(I4)    automatic  petrol     Red  2016  13665000  \n",
              "1     4-cylinder(I4)    automatic  petrol   Black  2019  33015000  \n",
              "2     6-cylinder(V6)    automatic  petrol     Red  2012   9915000  \n",
              "3     4-cylinder(I4)    automatic  petrol    Gray  2007   3815000  \n",
              "4     6-cylinder(V6)    automatic  petrol     Red  2010   7385000  \n",
              "...              ...          ...     ...     ...   ...       ...  \n",
              "1010  4-cylinder(I4)    automatic  petrol   Black  2014   5415000  \n",
              "1011  4-cylinder(I4)    automatic  petrol  Silver  2011   3615000  \n",
              "1012  4-cylinder(I4)    automatic  petrol   Black  2011   3415000  \n",
              "1013  6-cylinder(V6)    automatic  petrol    Gold  2013  14315000  \n",
              "1014  6-cylinder(V6)       manual  diesel   white  1998  10015000  \n",
              "\n",
              "[958 rows x 10 columns]"
            ],
            "text/html": [
              "\n",
              "  <div id=\"df-e0bc2a93-1a65-44ee-99ae-7f69f8a3b452\">\n",
              "    <div class=\"colab-df-container\">\n",
              "      <div>\n",
              "<style scoped>\n",
              "    .dataframe tbody tr th:only-of-type {\n",
              "        vertical-align: middle;\n",
              "    }\n",
              "\n",
              "    .dataframe tbody tr th {\n",
              "        vertical-align: top;\n",
              "    }\n",
              "\n",
              "    .dataframe thead th {\n",
              "        text-align: right;\n",
              "    }\n",
              "</style>\n",
              "<table border=\"1\" class=\"dataframe\">\n",
              "  <thead>\n",
              "    <tr style=\"text-align: right;\">\n",
              "      <th></th>\n",
              "      <th>title</th>\n",
              "      <th>odometer</th>\n",
              "      <th>location</th>\n",
              "      <th>isimported</th>\n",
              "      <th>engine</th>\n",
              "      <th>transmission</th>\n",
              "      <th>fuel</th>\n",
              "      <th>paint</th>\n",
              "      <th>year</th>\n",
              "      <th>target</th>\n",
              "    </tr>\n",
              "  </thead>\n",
              "  <tbody>\n",
              "    <tr>\n",
              "      <th>0</th>\n",
              "      <td>Toyota RAV 4</td>\n",
              "      <td>18277</td>\n",
              "      <td>Lagos</td>\n",
              "      <td>Foreign Used</td>\n",
              "      <td>4-cylinder(I4)</td>\n",
              "      <td>automatic</td>\n",
              "      <td>petrol</td>\n",
              "      <td>Red</td>\n",
              "      <td>2016</td>\n",
              "      <td>13665000</td>\n",
              "    </tr>\n",
              "    <tr>\n",
              "      <th>1</th>\n",
              "      <td>Toyota Land Cruiser</td>\n",
              "      <td>10</td>\n",
              "      <td>Lagos</td>\n",
              "      <td>New</td>\n",
              "      <td>4-cylinder(I4)</td>\n",
              "      <td>automatic</td>\n",
              "      <td>petrol</td>\n",
              "      <td>Black</td>\n",
              "      <td>2019</td>\n",
              "      <td>33015000</td>\n",
              "    </tr>\n",
              "    <tr>\n",
              "      <th>2</th>\n",
              "      <td>Land Rover Range Rover Evoque</td>\n",
              "      <td>83091</td>\n",
              "      <td>Lagos</td>\n",
              "      <td>Foreign Used</td>\n",
              "      <td>6-cylinder(V6)</td>\n",
              "      <td>automatic</td>\n",
              "      <td>petrol</td>\n",
              "      <td>Red</td>\n",
              "      <td>2012</td>\n",
              "      <td>9915000</td>\n",
              "    </tr>\n",
              "    <tr>\n",
              "      <th>3</th>\n",
              "      <td>Lexus ES 350</td>\n",
              "      <td>91524</td>\n",
              "      <td>Lagos</td>\n",
              "      <td>Foreign Used</td>\n",
              "      <td>4-cylinder(I4)</td>\n",
              "      <td>automatic</td>\n",
              "      <td>petrol</td>\n",
              "      <td>Gray</td>\n",
              "      <td>2007</td>\n",
              "      <td>3815000</td>\n",
              "    </tr>\n",
              "    <tr>\n",
              "      <th>4</th>\n",
              "      <td>Toyota Venza</td>\n",
              "      <td>94177</td>\n",
              "      <td>Lagos</td>\n",
              "      <td>Foreign Used</td>\n",
              "      <td>6-cylinder(V6)</td>\n",
              "      <td>automatic</td>\n",
              "      <td>petrol</td>\n",
              "      <td>Red</td>\n",
              "      <td>2010</td>\n",
              "      <td>7385000</td>\n",
              "    </tr>\n",
              "    <tr>\n",
              "      <th>...</th>\n",
              "      <td>...</td>\n",
              "      <td>...</td>\n",
              "      <td>...</td>\n",
              "      <td>...</td>\n",
              "      <td>...</td>\n",
              "      <td>...</td>\n",
              "      <td>...</td>\n",
              "      <td>...</td>\n",
              "      <td>...</td>\n",
              "      <td>...</td>\n",
              "    </tr>\n",
              "    <tr>\n",
              "      <th>1010</th>\n",
              "      <td>Toyota Corolla</td>\n",
              "      <td>46768</td>\n",
              "      <td>Lagos</td>\n",
              "      <td>Foreign Used</td>\n",
              "      <td>4-cylinder(I4)</td>\n",
              "      <td>automatic</td>\n",
              "      <td>petrol</td>\n",
              "      <td>Black</td>\n",
              "      <td>2014</td>\n",
              "      <td>5415000</td>\n",
              "    </tr>\n",
              "    <tr>\n",
              "      <th>1011</th>\n",
              "      <td>Toyota Camry</td>\n",
              "      <td>31600</td>\n",
              "      <td>Abuja</td>\n",
              "      <td>Foreign Used</td>\n",
              "      <td>4-cylinder(I4)</td>\n",
              "      <td>automatic</td>\n",
              "      <td>petrol</td>\n",
              "      <td>Silver</td>\n",
              "      <td>2011</td>\n",
              "      <td>3615000</td>\n",
              "    </tr>\n",
              "    <tr>\n",
              "      <th>1012</th>\n",
              "      <td>Toyota Camry</td>\n",
              "      <td>96802</td>\n",
              "      <td>Abuja</td>\n",
              "      <td>Foreign Used</td>\n",
              "      <td>4-cylinder(I4)</td>\n",
              "      <td>automatic</td>\n",
              "      <td>petrol</td>\n",
              "      <td>Black</td>\n",
              "      <td>2011</td>\n",
              "      <td>3415000</td>\n",
              "    </tr>\n",
              "    <tr>\n",
              "      <th>1013</th>\n",
              "      <td>Lexus GX 460</td>\n",
              "      <td>146275</td>\n",
              "      <td>Lagos</td>\n",
              "      <td>Foreign Used</td>\n",
              "      <td>6-cylinder(V6)</td>\n",
              "      <td>automatic</td>\n",
              "      <td>petrol</td>\n",
              "      <td>Gold</td>\n",
              "      <td>2013</td>\n",
              "      <td>14315000</td>\n",
              "    </tr>\n",
              "    <tr>\n",
              "      <th>1014</th>\n",
              "      <td>DAF CF</td>\n",
              "      <td>0</td>\n",
              "      <td>Lagos</td>\n",
              "      <td>Locally used</td>\n",
              "      <td>6-cylinder(V6)</td>\n",
              "      <td>manual</td>\n",
              "      <td>diesel</td>\n",
              "      <td>white</td>\n",
              "      <td>1998</td>\n",
              "      <td>10015000</td>\n",
              "    </tr>\n",
              "  </tbody>\n",
              "</table>\n",
              "<p>958 rows × 10 columns</p>\n",
              "</div>\n",
              "      <button class=\"colab-df-convert\" onclick=\"convertToInteractive('df-e0bc2a93-1a65-44ee-99ae-7f69f8a3b452')\"\n",
              "              title=\"Convert this dataframe to an interactive table.\"\n",
              "              style=\"display:none;\">\n",
              "        \n",
              "  <svg xmlns=\"http://www.w3.org/2000/svg\" height=\"24px\"viewBox=\"0 0 24 24\"\n",
              "       width=\"24px\">\n",
              "    <path d=\"M0 0h24v24H0V0z\" fill=\"none\"/>\n",
              "    <path d=\"M18.56 5.44l.94 2.06.94-2.06 2.06-.94-2.06-.94-.94-2.06-.94 2.06-2.06.94zm-11 1L8.5 8.5l.94-2.06 2.06-.94-2.06-.94L8.5 2.5l-.94 2.06-2.06.94zm10 10l.94 2.06.94-2.06 2.06-.94-2.06-.94-.94-2.06-.94 2.06-2.06.94z\"/><path d=\"M17.41 7.96l-1.37-1.37c-.4-.4-.92-.59-1.43-.59-.52 0-1.04.2-1.43.59L10.3 9.45l-7.72 7.72c-.78.78-.78 2.05 0 2.83L4 21.41c.39.39.9.59 1.41.59.51 0 1.02-.2 1.41-.59l7.78-7.78 2.81-2.81c.8-.78.8-2.07 0-2.86zM5.41 20L4 18.59l7.72-7.72 1.47 1.35L5.41 20z\"/>\n",
              "  </svg>\n",
              "      </button>\n",
              "      \n",
              "  <style>\n",
              "    .colab-df-container {\n",
              "      display:flex;\n",
              "      flex-wrap:wrap;\n",
              "      gap: 12px;\n",
              "    }\n",
              "\n",
              "    .colab-df-convert {\n",
              "      background-color: #E8F0FE;\n",
              "      border: none;\n",
              "      border-radius: 50%;\n",
              "      cursor: pointer;\n",
              "      display: none;\n",
              "      fill: #1967D2;\n",
              "      height: 32px;\n",
              "      padding: 0 0 0 0;\n",
              "      width: 32px;\n",
              "    }\n",
              "\n",
              "    .colab-df-convert:hover {\n",
              "      background-color: #E2EBFA;\n",
              "      box-shadow: 0px 1px 2px rgba(60, 64, 67, 0.3), 0px 1px 3px 1px rgba(60, 64, 67, 0.15);\n",
              "      fill: #174EA6;\n",
              "    }\n",
              "\n",
              "    [theme=dark] .colab-df-convert {\n",
              "      background-color: #3B4455;\n",
              "      fill: #D2E3FC;\n",
              "    }\n",
              "\n",
              "    [theme=dark] .colab-df-convert:hover {\n",
              "      background-color: #434B5C;\n",
              "      box-shadow: 0px 1px 3px 1px rgba(0, 0, 0, 0.15);\n",
              "      filter: drop-shadow(0px 1px 2px rgba(0, 0, 0, 0.3));\n",
              "      fill: #FFFFFF;\n",
              "    }\n",
              "  </style>\n",
              "\n",
              "      <script>\n",
              "        const buttonEl =\n",
              "          document.querySelector('#df-e0bc2a93-1a65-44ee-99ae-7f69f8a3b452 button.colab-df-convert');\n",
              "        buttonEl.style.display =\n",
              "          google.colab.kernel.accessAllowed ? 'block' : 'none';\n",
              "\n",
              "        async function convertToInteractive(key) {\n",
              "          const element = document.querySelector('#df-e0bc2a93-1a65-44ee-99ae-7f69f8a3b452');\n",
              "          const dataTable =\n",
              "            await google.colab.kernel.invokeFunction('convertToInteractive',\n",
              "                                                     [key], {});\n",
              "          if (!dataTable) return;\n",
              "\n",
              "          const docLinkHtml = 'Like what you see? Visit the ' +\n",
              "            '<a target=\"_blank\" href=https://colab.research.google.com/notebooks/data_table.ipynb>data table notebook</a>'\n",
              "            + ' to learn more about interactive tables.';\n",
              "          element.innerHTML = '';\n",
              "          dataTable['output_type'] = 'display_data';\n",
              "          await google.colab.output.renderOutput(dataTable, element);\n",
              "          const docLink = document.createElement('div');\n",
              "          docLink.innerHTML = docLinkHtml;\n",
              "          element.appendChild(docLink);\n",
              "        }\n",
              "      </script>\n",
              "    </div>\n",
              "  </div>\n",
              "  "
            ]
          },
          "metadata": {},
          "execution_count": 12
        }
      ]
    },
    {
      "cell_type": "code",
      "source": [
        "X.title.value_counts(),X.location.value_counts(),X.isimported.value_counts(),X.engine.value_counts(),X.transmission.value_counts(),X.fuel.value_counts(),X.year.value_counts()"
      ],
      "metadata": {
        "colab": {
          "base_uri": "https://localhost:8080/"
        },
        "id": "WwQpbC83vmCZ",
        "outputId": "cab324aa-478d-42c7-9c49-ad23582f3852"
      },
      "execution_count": null,
      "outputs": [
        {
          "output_type": "execute_result",
          "data": {
            "text/plain": [
              "(Toyota Camry             129\n",
              " Toyota Corolla           108\n",
              " Toyota Highlander         50\n",
              " Toyota Sienna             49\n",
              " Toyota RAV 4              40\n",
              "                         ... \n",
              " Scania P94 FLATBED         1\n",
              " Mercedes-Benz GLA 250      1\n",
              " Acura ZDX                  1\n",
              " Iveco TRUCK                1\n",
              " DAF CF                     1\n",
              " Name: title, Length: 203, dtype: int64, Lagos          792\n",
              " Abuja          146\n",
              " Ogun            26\n",
              " Lagos           23\n",
              " Lagos State     16\n",
              " other            4\n",
              " FCT              2\n",
              " Accra            1\n",
              " Abuja            1\n",
              " Abia State       1\n",
              " Adamawa          1\n",
              " Abia             1\n",
              " Ogun State       1\n",
              " Name: location, dtype: int64, Foreign Used    744\n",
              " Locally used    248\n",
              " New              23\n",
              " Name: isimported, dtype: int64, 4-cylinder(I4)    618\n",
              " 6-cylinder(V6)    222\n",
              " 6-cylinder(I6)    118\n",
              " 8-cylinder(V8)     49\n",
              " 3-cylinder(I3)      3\n",
              " 4-cylinder(H4)      2\n",
              " 5-cylinder(I5)      2\n",
              " 2-cylinder(I2)      1\n",
              " Name: engine, dtype: int64, automatic    965\n",
              " manual        50\n",
              " Name: transmission, dtype: int64, petrol    970\n",
              " diesel     45\n",
              " Name: fuel, dtype: int64, 2008    82\n",
              " 2013    73\n",
              " 2010    71\n",
              " 2016    70\n",
              " 2014    68\n",
              " 2007    68\n",
              " 2011    59\n",
              " 2009    57\n",
              " 2012    56\n",
              " 2006    56\n",
              " 2018    47\n",
              " 2015    45\n",
              " 2005    44\n",
              " 2004    36\n",
              " 2003    34\n",
              " 2017    29\n",
              " 2001    21\n",
              " 2019    17\n",
              " 2002    17\n",
              " 2020    17\n",
              " 2000    12\n",
              " 1999    10\n",
              " 1996     7\n",
              " 1998     5\n",
              " 1995     3\n",
              " 1994     3\n",
              " 1991     2\n",
              " 1985     1\n",
              " 1218     1\n",
              " 1982     1\n",
              " 1997     1\n",
              " 1217     1\n",
              " 1980     1\n",
              " Name: year, dtype: int64)"
            ]
          },
          "metadata": {},
          "execution_count": 14
        }
      ]
    },
    {
      "cell_type": "code",
      "source": [
        "train_df = train_df[~(train_df['year'] < 1980)]"
      ],
      "metadata": {
        "id": "53dDG4EWv_JR"
      },
      "execution_count": null,
      "outputs": []
    },
    {
      "cell_type": "code",
      "source": [
        "X =train_df.iloc[:,:-1]\n",
        "y = train_df.iloc[:,-1:]\n",
        "X.shape, y.shape"
      ],
      "metadata": {
        "id": "gkOOL0ob5Y3K",
        "colab": {
          "base_uri": "https://localhost:8080/"
        },
        "outputId": "0bdfb8a7-452a-4c69-e7dc-f8152cf3636b"
      },
      "execution_count": null,
      "outputs": [
        {
          "output_type": "execute_result",
          "data": {
            "text/plain": [
              "((1013, 9), (1013, 1))"
            ]
          },
          "metadata": {},
          "execution_count": 49
        }
      ]
    },
    {
      "cell_type": "code",
      "source": [
        ""
      ],
      "metadata": {
        "id": "tjZ1ZMYo7j0L"
      },
      "execution_count": null,
      "outputs": []
    },
    {
      "cell_type": "markdown",
      "source": [
        "## 4. Training"
      ],
      "metadata": {
        "id": "81Jg-MOOO8VM"
      }
    },
    {
      "cell_type": "code",
      "source": [
        "from sklearn.preprocessing import OrdinalEncoder\n",
        "from sklearn.preprocessing import OneHotEncoder\n",
        "from sklearn.preprocessing import LabelEncoder\n",
        "from lightgbm.sklearn import LGBMRegressor"
      ],
      "metadata": {
        "id": "7_ghx924s_fO"
      },
      "execution_count": null,
      "outputs": []
    },
    {
      "cell_type": "markdown",
      "source": [
        "###4_1. Encoding"
      ],
      "metadata": {
        "id": "CiENNaQMsDRt"
      }
    },
    {
      "cell_type": "markdown",
      "source": [
        "#### 4_1_1 ordinal encoding"
      ],
      "metadata": {
        "id": "g6zA3RURpqEt"
      }
    },
    {
      "cell_type": "code",
      "source": [
        "# no Encoding\n",
        "# OrdinalEncoder\n",
        "encoder = OrdinalEncoder()\n",
        "train_encoded = encoder.fit_transform(X)\n",
        "train_encoded"
      ],
      "metadata": {
        "colab": {
          "base_uri": "https://localhost:8080/"
        },
        "id": "DiKAJI7hsM5b",
        "outputId": "3cd90ca3-21d2-49be-faca-b5d2e685f949"
      },
      "execution_count": null,
      "outputs": [
        {
          "output_type": "execute_result",
          "data": {
            "text/plain": [
              "array([[178.,  80.,   8., ...,   1.,  51.,  26.],\n",
              "       [175.,   1.,   7., ...,   1.,   6.,  29.],\n",
              "       [ 70., 390.,   7., ...,   1.,  51.,  22.],\n",
              "       ...,\n",
              "       [167., 493.,   2., ...,   1.,   6.,  21.],\n",
              "       [ 79., 709.,   7., ...,   1.,  29.,  23.],\n",
              "       [ 20.,   0.,   7., ...,   0.,  73.,   8.]])"
            ]
          },
          "metadata": {},
          "execution_count": 54
        }
      ]
    },
    {
      "cell_type": "markdown",
      "source": [
        "#### 4_1_2 one hot encoding "
      ],
      "metadata": {
        "id": "KFJ216vB-s7x"
      }
    },
    {
      "cell_type": "code",
      "source": [
        "encoder2 = OneHotEncoder()\n",
        "train_encoded = encoder2.fit_transform(X)\n",
        "train_encoded"
      ],
      "metadata": {
        "colab": {
          "base_uri": "https://localhost:8080/"
        },
        "id": "Mbom0XE_p3cB",
        "outputId": "c2e305ff-5d5c-4dd0-d024-b4f3ec0a25e0"
      },
      "execution_count": null,
      "outputs": [
        {
          "output_type": "execute_result",
          "data": {
            "text/plain": [
              "<1013x1320 sparse matrix of type '<class 'numpy.float64'>'\n",
              "\twith 9117 stored elements in Compressed Sparse Row format>"
            ]
          },
          "metadata": {},
          "execution_count": 19
        }
      ]
    },
    {
      "cell_type": "markdown",
      "source": [
        "#### 4_1_3 one hot encoding & label encoding"
      ],
      "metadata": {
        "id": "luW4ASnsqnpt"
      }
    },
    {
      "cell_type": "code",
      "source": [
        "X1 = X.copy()\n",
        "X1['title'] = X1['title'].str.extract('([A-Za-z]+)', expand=False)\n",
        "X1"
      ],
      "metadata": {
        "colab": {
          "base_uri": "https://localhost:8080/",
          "height": 424
        },
        "id": "D56idQtIrCNf",
        "outputId": "316d4144-7ee8-40bc-cba3-f8851b76cbf4"
      },
      "execution_count": null,
      "outputs": [
        {
          "output_type": "execute_result",
          "data": {
            "text/plain": [
              "       title  odometer location    isimported          engine transmission  \\\n",
              "0     Toyota     18277   Lagos   Foreign Used  4-cylinder(I4)    automatic   \n",
              "1     Toyota        10    Lagos          New   4-cylinder(I4)    automatic   \n",
              "2       Land     83091    Lagos  Foreign Used  6-cylinder(V6)    automatic   \n",
              "3      Lexus     91524    Lagos  Foreign Used  4-cylinder(I4)    automatic   \n",
              "4     Toyota     94177    Lagos  Foreign Used  6-cylinder(V6)    automatic   \n",
              "...      ...       ...      ...           ...             ...          ...   \n",
              "1010  Toyota     46768    Lagos  Foreign Used  4-cylinder(I4)    automatic   \n",
              "1011  Toyota     31600    Abuja  Foreign Used  4-cylinder(I4)    automatic   \n",
              "1012  Toyota     96802    Abuja  Foreign Used  4-cylinder(I4)    automatic   \n",
              "1013   Lexus    146275    Lagos  Foreign Used  6-cylinder(V6)    automatic   \n",
              "1014     DAF         0    Lagos  Locally used  6-cylinder(V6)       manual   \n",
              "\n",
              "        fuel   paint  year  \n",
              "0     petrol     Red  2016  \n",
              "1     petrol   Black  2019  \n",
              "2     petrol     Red  2012  \n",
              "3     petrol    Gray  2007  \n",
              "4     petrol     Red  2010  \n",
              "...      ...     ...   ...  \n",
              "1010  petrol   Black  2014  \n",
              "1011  petrol  Silver  2011  \n",
              "1012  petrol   Black  2011  \n",
              "1013  petrol    Gold  2013  \n",
              "1014  diesel   white  1998  \n",
              "\n",
              "[1013 rows x 9 columns]"
            ],
            "text/html": [
              "\n",
              "  <div id=\"df-5b458a9e-ae14-4fd7-b42d-db015bf2e167\">\n",
              "    <div class=\"colab-df-container\">\n",
              "      <div>\n",
              "<style scoped>\n",
              "    .dataframe tbody tr th:only-of-type {\n",
              "        vertical-align: middle;\n",
              "    }\n",
              "\n",
              "    .dataframe tbody tr th {\n",
              "        vertical-align: top;\n",
              "    }\n",
              "\n",
              "    .dataframe thead th {\n",
              "        text-align: right;\n",
              "    }\n",
              "</style>\n",
              "<table border=\"1\" class=\"dataframe\">\n",
              "  <thead>\n",
              "    <tr style=\"text-align: right;\">\n",
              "      <th></th>\n",
              "      <th>title</th>\n",
              "      <th>odometer</th>\n",
              "      <th>location</th>\n",
              "      <th>isimported</th>\n",
              "      <th>engine</th>\n",
              "      <th>transmission</th>\n",
              "      <th>fuel</th>\n",
              "      <th>paint</th>\n",
              "      <th>year</th>\n",
              "    </tr>\n",
              "  </thead>\n",
              "  <tbody>\n",
              "    <tr>\n",
              "      <th>0</th>\n",
              "      <td>Toyota</td>\n",
              "      <td>18277</td>\n",
              "      <td>Lagos</td>\n",
              "      <td>Foreign Used</td>\n",
              "      <td>4-cylinder(I4)</td>\n",
              "      <td>automatic</td>\n",
              "      <td>petrol</td>\n",
              "      <td>Red</td>\n",
              "      <td>2016</td>\n",
              "    </tr>\n",
              "    <tr>\n",
              "      <th>1</th>\n",
              "      <td>Toyota</td>\n",
              "      <td>10</td>\n",
              "      <td>Lagos</td>\n",
              "      <td>New</td>\n",
              "      <td>4-cylinder(I4)</td>\n",
              "      <td>automatic</td>\n",
              "      <td>petrol</td>\n",
              "      <td>Black</td>\n",
              "      <td>2019</td>\n",
              "    </tr>\n",
              "    <tr>\n",
              "      <th>2</th>\n",
              "      <td>Land</td>\n",
              "      <td>83091</td>\n",
              "      <td>Lagos</td>\n",
              "      <td>Foreign Used</td>\n",
              "      <td>6-cylinder(V6)</td>\n",
              "      <td>automatic</td>\n",
              "      <td>petrol</td>\n",
              "      <td>Red</td>\n",
              "      <td>2012</td>\n",
              "    </tr>\n",
              "    <tr>\n",
              "      <th>3</th>\n",
              "      <td>Lexus</td>\n",
              "      <td>91524</td>\n",
              "      <td>Lagos</td>\n",
              "      <td>Foreign Used</td>\n",
              "      <td>4-cylinder(I4)</td>\n",
              "      <td>automatic</td>\n",
              "      <td>petrol</td>\n",
              "      <td>Gray</td>\n",
              "      <td>2007</td>\n",
              "    </tr>\n",
              "    <tr>\n",
              "      <th>4</th>\n",
              "      <td>Toyota</td>\n",
              "      <td>94177</td>\n",
              "      <td>Lagos</td>\n",
              "      <td>Foreign Used</td>\n",
              "      <td>6-cylinder(V6)</td>\n",
              "      <td>automatic</td>\n",
              "      <td>petrol</td>\n",
              "      <td>Red</td>\n",
              "      <td>2010</td>\n",
              "    </tr>\n",
              "    <tr>\n",
              "      <th>...</th>\n",
              "      <td>...</td>\n",
              "      <td>...</td>\n",
              "      <td>...</td>\n",
              "      <td>...</td>\n",
              "      <td>...</td>\n",
              "      <td>...</td>\n",
              "      <td>...</td>\n",
              "      <td>...</td>\n",
              "      <td>...</td>\n",
              "    </tr>\n",
              "    <tr>\n",
              "      <th>1010</th>\n",
              "      <td>Toyota</td>\n",
              "      <td>46768</td>\n",
              "      <td>Lagos</td>\n",
              "      <td>Foreign Used</td>\n",
              "      <td>4-cylinder(I4)</td>\n",
              "      <td>automatic</td>\n",
              "      <td>petrol</td>\n",
              "      <td>Black</td>\n",
              "      <td>2014</td>\n",
              "    </tr>\n",
              "    <tr>\n",
              "      <th>1011</th>\n",
              "      <td>Toyota</td>\n",
              "      <td>31600</td>\n",
              "      <td>Abuja</td>\n",
              "      <td>Foreign Used</td>\n",
              "      <td>4-cylinder(I4)</td>\n",
              "      <td>automatic</td>\n",
              "      <td>petrol</td>\n",
              "      <td>Silver</td>\n",
              "      <td>2011</td>\n",
              "    </tr>\n",
              "    <tr>\n",
              "      <th>1012</th>\n",
              "      <td>Toyota</td>\n",
              "      <td>96802</td>\n",
              "      <td>Abuja</td>\n",
              "      <td>Foreign Used</td>\n",
              "      <td>4-cylinder(I4)</td>\n",
              "      <td>automatic</td>\n",
              "      <td>petrol</td>\n",
              "      <td>Black</td>\n",
              "      <td>2011</td>\n",
              "    </tr>\n",
              "    <tr>\n",
              "      <th>1013</th>\n",
              "      <td>Lexus</td>\n",
              "      <td>146275</td>\n",
              "      <td>Lagos</td>\n",
              "      <td>Foreign Used</td>\n",
              "      <td>6-cylinder(V6)</td>\n",
              "      <td>automatic</td>\n",
              "      <td>petrol</td>\n",
              "      <td>Gold</td>\n",
              "      <td>2013</td>\n",
              "    </tr>\n",
              "    <tr>\n",
              "      <th>1014</th>\n",
              "      <td>DAF</td>\n",
              "      <td>0</td>\n",
              "      <td>Lagos</td>\n",
              "      <td>Locally used</td>\n",
              "      <td>6-cylinder(V6)</td>\n",
              "      <td>manual</td>\n",
              "      <td>diesel</td>\n",
              "      <td>white</td>\n",
              "      <td>1998</td>\n",
              "    </tr>\n",
              "  </tbody>\n",
              "</table>\n",
              "<p>1013 rows × 9 columns</p>\n",
              "</div>\n",
              "      <button class=\"colab-df-convert\" onclick=\"convertToInteractive('df-5b458a9e-ae14-4fd7-b42d-db015bf2e167')\"\n",
              "              title=\"Convert this dataframe to an interactive table.\"\n",
              "              style=\"display:none;\">\n",
              "        \n",
              "  <svg xmlns=\"http://www.w3.org/2000/svg\" height=\"24px\"viewBox=\"0 0 24 24\"\n",
              "       width=\"24px\">\n",
              "    <path d=\"M0 0h24v24H0V0z\" fill=\"none\"/>\n",
              "    <path d=\"M18.56 5.44l.94 2.06.94-2.06 2.06-.94-2.06-.94-.94-2.06-.94 2.06-2.06.94zm-11 1L8.5 8.5l.94-2.06 2.06-.94-2.06-.94L8.5 2.5l-.94 2.06-2.06.94zm10 10l.94 2.06.94-2.06 2.06-.94-2.06-.94-.94-2.06-.94 2.06-2.06.94z\"/><path d=\"M17.41 7.96l-1.37-1.37c-.4-.4-.92-.59-1.43-.59-.52 0-1.04.2-1.43.59L10.3 9.45l-7.72 7.72c-.78.78-.78 2.05 0 2.83L4 21.41c.39.39.9.59 1.41.59.51 0 1.02-.2 1.41-.59l7.78-7.78 2.81-2.81c.8-.78.8-2.07 0-2.86zM5.41 20L4 18.59l7.72-7.72 1.47 1.35L5.41 20z\"/>\n",
              "  </svg>\n",
              "      </button>\n",
              "      \n",
              "  <style>\n",
              "    .colab-df-container {\n",
              "      display:flex;\n",
              "      flex-wrap:wrap;\n",
              "      gap: 12px;\n",
              "    }\n",
              "\n",
              "    .colab-df-convert {\n",
              "      background-color: #E8F0FE;\n",
              "      border: none;\n",
              "      border-radius: 50%;\n",
              "      cursor: pointer;\n",
              "      display: none;\n",
              "      fill: #1967D2;\n",
              "      height: 32px;\n",
              "      padding: 0 0 0 0;\n",
              "      width: 32px;\n",
              "    }\n",
              "\n",
              "    .colab-df-convert:hover {\n",
              "      background-color: #E2EBFA;\n",
              "      box-shadow: 0px 1px 2px rgba(60, 64, 67, 0.3), 0px 1px 3px 1px rgba(60, 64, 67, 0.15);\n",
              "      fill: #174EA6;\n",
              "    }\n",
              "\n",
              "    [theme=dark] .colab-df-convert {\n",
              "      background-color: #3B4455;\n",
              "      fill: #D2E3FC;\n",
              "    }\n",
              "\n",
              "    [theme=dark] .colab-df-convert:hover {\n",
              "      background-color: #434B5C;\n",
              "      box-shadow: 0px 1px 3px 1px rgba(0, 0, 0, 0.15);\n",
              "      filter: drop-shadow(0px 1px 2px rgba(0, 0, 0, 0.3));\n",
              "      fill: #FFFFFF;\n",
              "    }\n",
              "  </style>\n",
              "\n",
              "      <script>\n",
              "        const buttonEl =\n",
              "          document.querySelector('#df-5b458a9e-ae14-4fd7-b42d-db015bf2e167 button.colab-df-convert');\n",
              "        buttonEl.style.display =\n",
              "          google.colab.kernel.accessAllowed ? 'block' : 'none';\n",
              "\n",
              "        async function convertToInteractive(key) {\n",
              "          const element = document.querySelector('#df-5b458a9e-ae14-4fd7-b42d-db015bf2e167');\n",
              "          const dataTable =\n",
              "            await google.colab.kernel.invokeFunction('convertToInteractive',\n",
              "                                                     [key], {});\n",
              "          if (!dataTable) return;\n",
              "\n",
              "          const docLinkHtml = 'Like what you see? Visit the ' +\n",
              "            '<a target=\"_blank\" href=https://colab.research.google.com/notebooks/data_table.ipynb>data table notebook</a>'\n",
              "            + ' to learn more about interactive tables.';\n",
              "          element.innerHTML = '';\n",
              "          dataTable['output_type'] = 'display_data';\n",
              "          await google.colab.output.renderOutput(dataTable, element);\n",
              "          const docLink = document.createElement('div');\n",
              "          docLink.innerHTML = docLinkHtml;\n",
              "          element.appendChild(docLink);\n",
              "        }\n",
              "      </script>\n",
              "    </div>\n",
              "  </div>\n",
              "  "
            ]
          },
          "metadata": {},
          "execution_count": 29
        }
      ]
    },
    {
      "cell_type": "code",
      "source": [
        "train_df['engine'].value_counts()[train_df['engine'].value_counts()>50].index"
      ],
      "metadata": {
        "colab": {
          "base_uri": "https://localhost:8080/"
        },
        "id": "aMvcTFUW0zRy",
        "outputId": "5eb5b9cb-5c55-4906-a062-a0a86df87528"
      },
      "execution_count": null,
      "outputs": [
        {
          "output_type": "execute_result",
          "data": {
            "text/plain": [
              "Index(['4-cylinder(I4)', '6-cylinder(V6)', '6-cylinder(I6)'], dtype='object')"
            ]
          },
          "metadata": {},
          "execution_count": 30
        }
      ]
    },
    {
      "cell_type": "code",
      "source": [
        "# title-onehot 10개 이하 지우고 , location-onehot 4개 이하 지우고, isimported-onehot, engine-ordinal, transmission-onehot, fuel-onehot, paint column 삭제\n",
        "X1.title.value_counts(),X1.location.value_counts(),X1.isimported.value_counts(),X1.engine.value_counts(),X1.transmission.value_counts(),X1.fuel.value_counts(),X1.year.value_counts(),X1.paint.value_counts()"
      ],
      "metadata": {
        "colab": {
          "base_uri": "https://localhost:8080/"
        },
        "id": "P9RfycqfrHLY",
        "outputId": "a653d25a-2f9a-4b62-a0c8-d144fda8849b"
      },
      "execution_count": null,
      "outputs": [
        {
          "output_type": "execute_result",
          "data": {
            "text/plain": [
              "(Toyota        474\n",
              " Lexus         122\n",
              " Mercedes      104\n",
              " Honda          81\n",
              " Ford           36\n",
              " Nissan         24\n",
              " Hyundai        24\n",
              " Land           19\n",
              " Kia            15\n",
              " Volkswagen     13\n",
              " BMW            10\n",
              " Acura           9\n",
              " Mack            8\n",
              " Mazda           8\n",
              " Volvo           7\n",
              " Chevrolet       5\n",
              " Infiniti        5\n",
              " Mitsubishi      4\n",
              " DAF             4\n",
              " Man             4\n",
              " GAC             4\n",
              " Porsche         4\n",
              " Jaguar          3\n",
              " Peugeot         3\n",
              " Pontiac         3\n",
              " Scania          3\n",
              " MINI            2\n",
              " Isuzu           2\n",
              " Dodge           1\n",
              " GMC             1\n",
              " Iveco           1\n",
              " IVM             1\n",
              " IVECO           1\n",
              " Lincoln         1\n",
              " Rolls           1\n",
              " MAN             1\n",
              " Jeep            1\n",
              " ALPINA          1\n",
              " Bentley         1\n",
              " JMC             1\n",
              " Audi            1\n",
              " Name: title, dtype: int64, Lagos          790\n",
              " Abuja          146\n",
              " Ogun            26\n",
              " Lagos           23\n",
              " Lagos State     16\n",
              " other            4\n",
              " FCT              2\n",
              " Accra            1\n",
              " Abuja            1\n",
              " Abia State       1\n",
              " Adamawa          1\n",
              " Abia             1\n",
              " Ogun State       1\n",
              " Name: location, dtype: int64, Foreign Used    744\n",
              " Locally used    246\n",
              " New              23\n",
              " Name: isimported, dtype: int64, 4-cylinder(I4)    617\n",
              " 6-cylinder(V6)    221\n",
              " 6-cylinder(I6)    118\n",
              " 8-cylinder(V8)     49\n",
              " 3-cylinder(I3)      3\n",
              " 4-cylinder(H4)      2\n",
              " 5-cylinder(I5)      2\n",
              " 2-cylinder(I2)      1\n",
              " Name: engine, dtype: int64, automatic    965\n",
              " manual        48\n",
              " Name: transmission, dtype: int64, petrol    970\n",
              " diesel     43\n",
              " Name: fuel, dtype: int64, 2008    82\n",
              " 2013    73\n",
              " 2010    71\n",
              " 2016    70\n",
              " 2014    68\n",
              " 2007    68\n",
              " 2011    59\n",
              " 2009    57\n",
              " 2012    56\n",
              " 2006    56\n",
              " 2018    47\n",
              " 2015    45\n",
              " 2005    44\n",
              " 2004    36\n",
              " 2003    34\n",
              " 2017    29\n",
              " 2001    21\n",
              " 2019    17\n",
              " 2002    17\n",
              " 2020    17\n",
              " 2000    12\n",
              " 1999    10\n",
              " 1996     7\n",
              " 1998     5\n",
              " 1995     3\n",
              " 1994     3\n",
              " 1991     2\n",
              " 1985     1\n",
              " 1982     1\n",
              " 1997     1\n",
              " 1980     1\n",
              " Name: year, dtype: int64, Black          292\n",
              " White          115\n",
              " Silver         103\n",
              " Grey            84\n",
              " Blue            70\n",
              "               ... \n",
              " WINE             1\n",
              " Silver/grey      1\n",
              " Ink blue         1\n",
              " Light blue       1\n",
              " Off white l      1\n",
              " Name: paint, Length: 76, dtype: int64)"
            ]
          },
          "metadata": {},
          "execution_count": 21
        }
      ]
    },
    {
      "cell_type": "code",
      "source": [
        "# title 10개 이상\n",
        "title_con = list(X1['title'].value_counts()[X1['title'].value_counts()>=10].index)\n",
        "# location-4개 이상\n",
        "loc_con = list(X1['location'].value_counts()[X1['location'].value_counts()>=4].index)\n",
        "# engine 49개 이상\n",
        "engine_con = list(X1['engine'].value_counts()[X1['engine'].value_counts()>=49].index)"
      ],
      "metadata": {
        "id": "mxK6L0Kl1EXk"
      },
      "execution_count": null,
      "outputs": []
    },
    {
      "cell_type": "code",
      "source": [
        "# title-onehot 10개 이하 지우고 , location-onehot 4개 이하 지우고, isimported-onehot, engine-onehot, transmission-onehot, fuel-onehot, paint column 삭제, odomete label encoding와 year label encoding 둘중 하나만 사용\n",
        "# title onehot\n",
        "X1_title = pd.get_dummies(X1['title'])[title_con]\n",
        "# location onehot\n",
        "X1_location = pd.get_dummies(X1['location'])[loc_con]\n",
        "# isimported\n",
        "X1_isimported = pd.get_dummies(X1['isimported'])\n",
        "# engine\n",
        "X1_engine = pd.get_dummies(X1['engine'])[engine_con]\n",
        "# transmission\n",
        "X1_transmission = pd.get_dummies(X1['transmission'])\n",
        "# fuel\n",
        "X1_fuel = pd.get_dummies(X1['fuel'])\n",
        "X1_odometer = X1['odometer']\n",
        "X1_year = X1['year']\n",
        "X1_dataframes = [X1_title,X1_location,X1_isimported,X1_engine,X1_transmission,X1_fuel,X1_odometer,X1_year]"
      ],
      "metadata": {
        "id": "xY4MMvAA2AJN"
      },
      "execution_count": null,
      "outputs": []
    },
    {
      "cell_type": "code",
      "source": [
        "# 데이터 프레임 합치기\n",
        "train_encoded = pd.concat(X1_dataframes,axis=1)"
      ],
      "metadata": {
        "id": "Q-j9fVJw9RYd"
      },
      "execution_count": null,
      "outputs": []
    },
    {
      "cell_type": "code",
      "source": [
        "X1_dataframes = [X1_title,X1_isimported,X1_engine,X1_transmission,X1_fuel,X1_odometer,X1_year]\n",
        "train_encoded = pd.concat(X1_dataframes,axis=1)"
      ],
      "metadata": {
        "id": "Y7bB66Gv-8Ra"
      },
      "execution_count": null,
      "outputs": []
    },
    {
      "cell_type": "markdown",
      "source": [
        "### 4_2. Train_Test split"
      ],
      "metadata": {
        "id": "gzm5QYsBsZSf"
      }
    },
    {
      "cell_type": "code",
      "source": [
        "from sklearn.model_selection import train_test_split\n",
        "\n",
        "X_train, X_val, y_train, y_val = train_test_split(train_encoded,y,test_size=0.2, random_state=42)\n",
        "X_train.shape,X_val.shape,y_train.shape,y_val.shape"
      ],
      "metadata": {
        "colab": {
          "base_uri": "https://localhost:8080/"
        },
        "id": "pF1BT_pwz0Wf",
        "outputId": "421777d7-67b8-4f17-b2f0-204b5fe4179c"
      },
      "execution_count": null,
      "outputs": [
        {
          "output_type": "execute_result",
          "data": {
            "text/plain": [
              "((810, 24), (203, 24), (810, 1), (203, 1))"
            ]
          },
          "metadata": {},
          "execution_count": 99
        }
      ]
    },
    {
      "cell_type": "code",
      "source": [
        "from sklearn.preprocessing import StandardScaler\n",
        "# 표준정규분포로\n",
        "scaler = StandardScaler()\n",
        "X_train = scaler.fit_transform(X_train)\n",
        "X_val = scaler.transform(X_val)\n",
        "# X_test = scaler.transform(test_df)"
      ],
      "metadata": {
        "id": "YMco_R1do8Em"
      },
      "execution_count": null,
      "outputs": []
    },
    {
      "cell_type": "markdown",
      "source": [
        "### 4_3. Training"
      ],
      "metadata": {
        "id": "WhG9N-1LsiSq"
      }
    },
    {
      "cell_type": "code",
      "source": [
        "from sklearn.linear_model import LinearRegression# 1. Linear Regression\n",
        "from sklearn.linear_model import Lasso# 2. Lasso\n",
        "from sklearn.linear_model import Ridge# 3. Ridge\n",
        "from xgboost.sklearn import XGBRegressor# 4. XGBoost\n",
        "from lightgbm.sklearn import LGBMRegressor# 5. LightGBM\n",
        "from sklearn.metrics import mean_squared_error\n",
        "from sklearn.metrics import r2_score"
      ],
      "metadata": {
        "id": "lnH08LpS6JxL"
      },
      "execution_count": null,
      "outputs": []
    },
    {
      "cell_type": "code",
      "source": [
        "# training\n",
        "reg = LinearRegression()\n",
        "reg2 = Lasso()\n",
        "reg3 = Ridge()\n",
        "reg4 = XGBRegressor()\n",
        "reg5 = LGBMRegressor()\n",
        "\n",
        "reg.fit(X_train, y_train)\n",
        "reg2.fit(X_train, y_train)\n",
        "reg3.fit(X_train, y_train)\n",
        "reg4.fit(X_train, y_train)\n",
        "reg5.fit(X_train, y_train)\n",
        "\n",
        "pred_train = reg.predict(X_train)\n",
        "pred_train2 = reg2.predict(X_train)\n",
        "pred_train3 = reg3.predict(X_train)\n",
        "pred_train4 = reg4.predict(X_train)\n",
        "pred_train5 = reg5.predict(X_train)\n",
        "\n",
        "pred_val = reg.predict(X_val)\n",
        "pred_val2 = reg2.predict(X_val)\n",
        "pred_val3 = reg3.predict(X_val)\n",
        "pred_val4 = reg4.predict(X_val)\n",
        "pred_val5 = reg5.predict(X_val)\n",
        "\n",
        "mse_train = mean_squared_error(y_train, pred_train)\n",
        "mse_val = mean_squared_error(y_val, pred_val)\n",
        "mse_train2 = mean_squared_error(y_train, pred_train2)\n",
        "mse_val2 = mean_squared_error(y_val, pred_val2)\n",
        "mse_train3 = mean_squared_error(y_train, pred_train3)\n",
        "mse_val3 = mean_squared_error(y_val, pred_val3)\n",
        "mse_train4 = mean_squared_error(y_train, pred_train4)\n",
        "mse_val4 = mean_squared_error(y_val, pred_val4)\n",
        "mse_train5 = mean_squared_error(y_train, pred_train5)\n",
        "mse_val5 = mean_squared_error(y_val, pred_val5)\n",
        "\n",
        "rscore_train = r2_score(y_train, pred_train)\n",
        "rscore_val = r2_score(y_val, pred_val)\n",
        "rscore_train2 = r2_score(y_train, pred_train2)\n",
        "rscore_val2 = r2_score(y_val, pred_val2)\n",
        "rscore_train3 = r2_score(y_train, pred_train3)\n",
        "rscore_val3 = r2_score(y_val, pred_val3)\n",
        "rscore_train4 = r2_score(y_train, pred_train4)\n",
        "rscore_val4 = r2_score(y_val, pred_val4)\n",
        "rscore_train5 = r2_score(y_train, pred_train5)\n",
        "rscore_val5 = r2_score(y_val, pred_val5)\n",
        "\n",
        "print(\"1. Linear Regression\\t, train/val = %.4f, %.4f\" % (mse_train, mse_val))\n",
        "print(\"2. Lasso Regression\\t, train/val = %.4f, %.4f\" % (mse_train2, mse_val2))\n",
        "print(\"3. Ridge Regression\\t, train/val = %.4f, %.4f\" % (mse_train3, mse_val3))\n",
        "print(\"4. XGBoost\\t\\t, train/val = %.4f, %.4f\" % (mse_train4, mse_val4))\n",
        "print(\"5. LightGBM\\t\\t, train/val = %.4f, %.4f\" % (mse_train5, mse_val5))\n",
        "\n",
        "print(\"1. Linear Regression\\t, train/val = %.4f, %.4f\" % (rscore_train, rscore_val))\n",
        "print(\"2. Lasso Regression\\t, train/val = %.4f, %.4f\" % (rscore_train2, rscore_val2))\n",
        "print(\"3. Ridge Regression\\t, train/val = %.4f, %.4f\" % (rscore_train3, rscore_val3))\n",
        "print(\"4. XGBoost\\t\\t, train/val = %.4f, %.4f\" % (rscore_train4, rscore_val4))\n",
        "print(\"5. LightGBM\\t\\t, train/val = %.4f, %.4f\" % (rscore_train5, rscore_val5))"
      ],
      "metadata": {
        "colab": {
          "base_uri": "https://localhost:8080/"
        },
        "id": "j_Kj-KWhAURx",
        "outputId": "7bfd8788-5976-4b88-a90e-7d6352627efd"
      },
      "execution_count": null,
      "outputs": [
        {
          "output_type": "stream",
          "name": "stdout",
          "text": [
            "[09:16:36] WARNING: /workspace/src/objective/regression_obj.cu:152: reg:linear is now deprecated in favor of reg:squarederror.\n",
            "1. Linear Regression\t, train/val = 65668322213755.0000, 148194009813889.7812\n",
            "2. Lasso Regression\t, train/val = 65668322216085.6016, 148193948334992.7500\n",
            "3. Ridge Regression\t, train/val = 65746437422076.5156, 146958215154893.7812\n",
            "4. XGBoost\t\t, train/val = 16899577625795.0371, 137951368186387.6094\n",
            "5. LightGBM\t\t, train/val = 31512323471550.8398, 136632706243517.9531\n",
            "1. Linear Regression\t, train/val = 0.5317, 0.2031\n",
            "2. Lasso Regression\t, train/val = 0.5317, 0.2031\n",
            "3. Ridge Regression\t, train/val = 0.5311, 0.2098\n",
            "4. XGBoost\t\t, train/val = 0.8795, 0.2582\n",
            "5. LightGBM\t\t, train/val = 0.7753, 0.2653\n"
          ]
        }
      ]
    },
    {
      "cell_type": "code",
      "source": [
        "from sklearn.metrics import mean_squared_error\n",
        "pred_train = reg.predict(X_train)\n",
        "pred_val = reg.predict(X_val)\n",
        "mse_train = mean_squared_error(y_train, pred_train)\n",
        "mse_val = mean_squared_error(y_val, pred_val)\n",
        "print(\"5. LightGBM\\t\\t, train/val = %.4f, %.4f\" % (mse_train, mse_val))"
      ],
      "metadata": {
        "colab": {
          "base_uri": "https://localhost:8080/"
        },
        "id": "iP5fejtJ-31H",
        "outputId": "4081e9e9-e530-489e-bdd6-8390a20d0688"
      },
      "execution_count": null,
      "outputs": [
        {
          "output_type": "stream",
          "name": "stdout",
          "text": [
            "5. LightGBM\t\t, train/val = 88695560931208.8281, 145775574219077.2812\n"
          ]
        }
      ]
    },
    {
      "cell_type": "markdown",
      "source": [
        "### 4_2 LightGBM 확인\n"
      ],
      "metadata": {
        "id": "93KwCeQr_kf7"
      }
    },
    {
      "cell_type": "code",
      "source": [
        "reg5.feature_importances_"
      ],
      "metadata": {
        "id": "-4L3MDGgmiY2"
      },
      "execution_count": null,
      "outputs": []
    },
    {
      "cell_type": "code",
      "source": [
        "reg5.plot"
      ],
      "metadata": {
        "id": "RDRFc7Uom_1T"
      },
      "execution_count": null,
      "outputs": []
    },
    {
      "cell_type": "markdown",
      "source": [
        "## 5. Test(Prediction)"
      ],
      "metadata": {
        "id": "4bWgmQHzO_vx"
      }
    },
    {
      "cell_type": "code",
      "source": [
        "test_encoded = encoder.fit_transform(test_df)\n",
        "pred_test = reg5.predict(test_encoded)"
      ],
      "metadata": {
        "id": "VCPcD_kcF-7x"
      },
      "execution_count": null,
      "outputs": []
    },
    {
      "cell_type": "code",
      "source": [
        "test_df.index"
      ],
      "metadata": {
        "id": "Los9ZP80G9fM"
      },
      "execution_count": null,
      "outputs": []
    },
    {
      "cell_type": "code",
      "source": [
        "pred_test"
      ],
      "metadata": {
        "id": "nIGntbjpTCn9"
      },
      "execution_count": null,
      "outputs": []
    },
    {
      "cell_type": "code",
      "source": [
        "id = pd.DataFrame({'id':test_df.index})\n",
        "target = pd.DataFrame(pred_test)\n",
        "target.rename(columns={0:'target'},inplace=True)\n",
        "# pred_test\n",
        "target"
      ],
      "metadata": {
        "id": "65hdC1Y8ISyc"
      },
      "execution_count": null,
      "outputs": []
    },
    {
      "cell_type": "code",
      "source": [
        "\n",
        "submit = pd.concat([id, target],axis=1)\n",
        "submit.set_index('id',inplace=True)"
      ],
      "metadata": {
        "id": "1-UnPVP8GtKd"
      },
      "execution_count": null,
      "outputs": []
    },
    {
      "cell_type": "code",
      "source": [
        "submit.to_csv('/content/drive/MyDrive/project/dacon_car/submit1.csv')"
      ],
      "metadata": {
        "id": "ndx_cAhNX8tp"
      },
      "execution_count": null,
      "outputs": []
    }
  ]
}